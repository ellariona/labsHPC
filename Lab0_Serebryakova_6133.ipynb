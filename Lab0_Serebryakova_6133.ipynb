{
  "nbformat": 4,
  "nbformat_minor": 0,
  "metadata": {
    "colab": {
      "name": "Lab0_Serebryakova_6133.ipynb",
      "provenance": [],
      "include_colab_link": true
    },
    "kernelspec": {
      "name": "python3",
      "display_name": "Python 3"
    },
    "accelerator": "GPU"
  },
  "cells": [
    {
      "cell_type": "markdown",
      "metadata": {
        "id": "view-in-github",
        "colab_type": "text"
      },
      "source": [
        "<a href=\"https://colab.research.google.com/github/ellariona/labsHPC/blob/main/Lab0_Serebryakova_6133.ipynb\" target=\"_parent\"><img src=\"https://colab.research.google.com/assets/colab-badge.svg\" alt=\"Open In Colab\"/></a>"
      ]
    },
    {
      "cell_type": "code",
      "metadata": {
        "id": "fm0RRqE_WQzw",
        "colab": {
          "base_uri": "https://localhost:8080/"
        },
        "outputId": "d35df9e7-562f-409a-d223-548d66ddfb67"
      },
      "source": [
        "!pip install pycuda"
      ],
      "execution_count": null,
      "outputs": [
        {
          "output_type": "stream",
          "name": "stdout",
          "text": [
            "Collecting pycuda\n",
            "  Downloading pycuda-2021.1.tar.gz (1.7 MB)\n",
            "\u001b[?25l\r\u001b[K     |▏                               | 10 kB 18.6 MB/s eta 0:00:01\r\u001b[K     |▍                               | 20 kB 24.6 MB/s eta 0:00:01\r\u001b[K     |▋                               | 30 kB 12.5 MB/s eta 0:00:01\r\u001b[K     |▉                               | 40 kB 9.6 MB/s eta 0:00:01\r\u001b[K     |█                               | 51 kB 5.2 MB/s eta 0:00:01\r\u001b[K     |█▏                              | 61 kB 5.7 MB/s eta 0:00:01\r\u001b[K     |█▍                              | 71 kB 5.7 MB/s eta 0:00:01\r\u001b[K     |█▋                              | 81 kB 6.4 MB/s eta 0:00:01\r\u001b[K     |█▊                              | 92 kB 4.9 MB/s eta 0:00:01\r\u001b[K     |██                              | 102 kB 5.3 MB/s eta 0:00:01\r\u001b[K     |██▏                             | 112 kB 5.3 MB/s eta 0:00:01\r\u001b[K     |██▍                             | 122 kB 5.3 MB/s eta 0:00:01\r\u001b[K     |██▌                             | 133 kB 5.3 MB/s eta 0:00:01\r\u001b[K     |██▊                             | 143 kB 5.3 MB/s eta 0:00:01\r\u001b[K     |███                             | 153 kB 5.3 MB/s eta 0:00:01\r\u001b[K     |███▏                            | 163 kB 5.3 MB/s eta 0:00:01\r\u001b[K     |███▎                            | 174 kB 5.3 MB/s eta 0:00:01\r\u001b[K     |███▌                            | 184 kB 5.3 MB/s eta 0:00:01\r\u001b[K     |███▊                            | 194 kB 5.3 MB/s eta 0:00:01\r\u001b[K     |████                            | 204 kB 5.3 MB/s eta 0:00:01\r\u001b[K     |████                            | 215 kB 5.3 MB/s eta 0:00:01\r\u001b[K     |████▎                           | 225 kB 5.3 MB/s eta 0:00:01\r\u001b[K     |████▌                           | 235 kB 5.3 MB/s eta 0:00:01\r\u001b[K     |████▊                           | 245 kB 5.3 MB/s eta 0:00:01\r\u001b[K     |████▉                           | 256 kB 5.3 MB/s eta 0:00:01\r\u001b[K     |█████                           | 266 kB 5.3 MB/s eta 0:00:01\r\u001b[K     |█████▎                          | 276 kB 5.3 MB/s eta 0:00:01\r\u001b[K     |█████▌                          | 286 kB 5.3 MB/s eta 0:00:01\r\u001b[K     |█████▋                          | 296 kB 5.3 MB/s eta 0:00:01\r\u001b[K     |█████▉                          | 307 kB 5.3 MB/s eta 0:00:01\r\u001b[K     |██████                          | 317 kB 5.3 MB/s eta 0:00:01\r\u001b[K     |██████▎                         | 327 kB 5.3 MB/s eta 0:00:01\r\u001b[K     |██████▍                         | 337 kB 5.3 MB/s eta 0:00:01\r\u001b[K     |██████▋                         | 348 kB 5.3 MB/s eta 0:00:01\r\u001b[K     |██████▉                         | 358 kB 5.3 MB/s eta 0:00:01\r\u001b[K     |███████                         | 368 kB 5.3 MB/s eta 0:00:01\r\u001b[K     |███████▏                        | 378 kB 5.3 MB/s eta 0:00:01\r\u001b[K     |███████▍                        | 389 kB 5.3 MB/s eta 0:00:01\r\u001b[K     |███████▋                        | 399 kB 5.3 MB/s eta 0:00:01\r\u001b[K     |███████▉                        | 409 kB 5.3 MB/s eta 0:00:01\r\u001b[K     |████████                        | 419 kB 5.3 MB/s eta 0:00:01\r\u001b[K     |████████▏                       | 430 kB 5.3 MB/s eta 0:00:01\r\u001b[K     |████████▍                       | 440 kB 5.3 MB/s eta 0:00:01\r\u001b[K     |████████▋                       | 450 kB 5.3 MB/s eta 0:00:01\r\u001b[K     |████████▊                       | 460 kB 5.3 MB/s eta 0:00:01\r\u001b[K     |█████████                       | 471 kB 5.3 MB/s eta 0:00:01\r\u001b[K     |█████████▏                      | 481 kB 5.3 MB/s eta 0:00:01\r\u001b[K     |█████████▍                      | 491 kB 5.3 MB/s eta 0:00:01\r\u001b[K     |█████████▌                      | 501 kB 5.3 MB/s eta 0:00:01\r\u001b[K     |█████████▊                      | 512 kB 5.3 MB/s eta 0:00:01\r\u001b[K     |██████████                      | 522 kB 5.3 MB/s eta 0:00:01\r\u001b[K     |██████████▏                     | 532 kB 5.3 MB/s eta 0:00:01\r\u001b[K     |██████████▎                     | 542 kB 5.3 MB/s eta 0:00:01\r\u001b[K     |██████████▌                     | 552 kB 5.3 MB/s eta 0:00:01\r\u001b[K     |██████████▊                     | 563 kB 5.3 MB/s eta 0:00:01\r\u001b[K     |███████████                     | 573 kB 5.3 MB/s eta 0:00:01\r\u001b[K     |███████████                     | 583 kB 5.3 MB/s eta 0:00:01\r\u001b[K     |███████████▎                    | 593 kB 5.3 MB/s eta 0:00:01\r\u001b[K     |███████████▌                    | 604 kB 5.3 MB/s eta 0:00:01\r\u001b[K     |███████████▊                    | 614 kB 5.3 MB/s eta 0:00:01\r\u001b[K     |███████████▉                    | 624 kB 5.3 MB/s eta 0:00:01\r\u001b[K     |████████████                    | 634 kB 5.3 MB/s eta 0:00:01\r\u001b[K     |████████████▎                   | 645 kB 5.3 MB/s eta 0:00:01\r\u001b[K     |████████████▌                   | 655 kB 5.3 MB/s eta 0:00:01\r\u001b[K     |████████████▋                   | 665 kB 5.3 MB/s eta 0:00:01\r\u001b[K     |████████████▉                   | 675 kB 5.3 MB/s eta 0:00:01\r\u001b[K     |█████████████                   | 686 kB 5.3 MB/s eta 0:00:01\r\u001b[K     |█████████████▎                  | 696 kB 5.3 MB/s eta 0:00:01\r\u001b[K     |█████████████▍                  | 706 kB 5.3 MB/s eta 0:00:01\r\u001b[K     |█████████████▋                  | 716 kB 5.3 MB/s eta 0:00:01\r\u001b[K     |█████████████▉                  | 727 kB 5.3 MB/s eta 0:00:01\r\u001b[K     |██████████████                  | 737 kB 5.3 MB/s eta 0:00:01\r\u001b[K     |██████████████▏                 | 747 kB 5.3 MB/s eta 0:00:01\r\u001b[K     |██████████████▍                 | 757 kB 5.3 MB/s eta 0:00:01\r\u001b[K     |██████████████▋                 | 768 kB 5.3 MB/s eta 0:00:01\r\u001b[K     |██████████████▉                 | 778 kB 5.3 MB/s eta 0:00:01\r\u001b[K     |███████████████                 | 788 kB 5.3 MB/s eta 0:00:01\r\u001b[K     |███████████████▏                | 798 kB 5.3 MB/s eta 0:00:01\r\u001b[K     |███████████████▍                | 808 kB 5.3 MB/s eta 0:00:01\r\u001b[K     |███████████████▋                | 819 kB 5.3 MB/s eta 0:00:01\r\u001b[K     |███████████████▊                | 829 kB 5.3 MB/s eta 0:00:01\r\u001b[K     |████████████████                | 839 kB 5.3 MB/s eta 0:00:01\r\u001b[K     |████████████████▏               | 849 kB 5.3 MB/s eta 0:00:01\r\u001b[K     |████████████████▍               | 860 kB 5.3 MB/s eta 0:00:01\r\u001b[K     |████████████████▌               | 870 kB 5.3 MB/s eta 0:00:01\r\u001b[K     |████████████████▊               | 880 kB 5.3 MB/s eta 0:00:01\r\u001b[K     |█████████████████               | 890 kB 5.3 MB/s eta 0:00:01\r\u001b[K     |█████████████████▏              | 901 kB 5.3 MB/s eta 0:00:01\r\u001b[K     |█████████████████▍              | 911 kB 5.3 MB/s eta 0:00:01\r\u001b[K     |█████████████████▌              | 921 kB 5.3 MB/s eta 0:00:01\r\u001b[K     |█████████████████▊              | 931 kB 5.3 MB/s eta 0:00:01\r\u001b[K     |██████████████████              | 942 kB 5.3 MB/s eta 0:00:01\r\u001b[K     |██████████████████▏             | 952 kB 5.3 MB/s eta 0:00:01\r\u001b[K     |██████████████████▎             | 962 kB 5.3 MB/s eta 0:00:01\r\u001b[K     |██████████████████▌             | 972 kB 5.3 MB/s eta 0:00:01\r\u001b[K     |██████████████████▊             | 983 kB 5.3 MB/s eta 0:00:01\r\u001b[K     |███████████████████             | 993 kB 5.3 MB/s eta 0:00:01\r\u001b[K     |███████████████████             | 1.0 MB 5.3 MB/s eta 0:00:01\r\u001b[K     |███████████████████▎            | 1.0 MB 5.3 MB/s eta 0:00:01\r\u001b[K     |███████████████████▌            | 1.0 MB 5.3 MB/s eta 0:00:01\r\u001b[K     |███████████████████▊            | 1.0 MB 5.3 MB/s eta 0:00:01\r\u001b[K     |███████████████████▉            | 1.0 MB 5.3 MB/s eta 0:00:01\r\u001b[K     |████████████████████            | 1.1 MB 5.3 MB/s eta 0:00:01\r\u001b[K     |████████████████████▎           | 1.1 MB 5.3 MB/s eta 0:00:01\r\u001b[K     |████████████████████▌           | 1.1 MB 5.3 MB/s eta 0:00:01\r\u001b[K     |████████████████████▋           | 1.1 MB 5.3 MB/s eta 0:00:01\r\u001b[K     |████████████████████▉           | 1.1 MB 5.3 MB/s eta 0:00:01\r\u001b[K     |█████████████████████           | 1.1 MB 5.3 MB/s eta 0:00:01\r\u001b[K     |█████████████████████▎          | 1.1 MB 5.3 MB/s eta 0:00:01\r\u001b[K     |█████████████████████▍          | 1.1 MB 5.3 MB/s eta 0:00:01\r\u001b[K     |█████████████████████▋          | 1.1 MB 5.3 MB/s eta 0:00:01\r\u001b[K     |█████████████████████▉          | 1.1 MB 5.3 MB/s eta 0:00:01\r\u001b[K     |██████████████████████          | 1.2 MB 5.3 MB/s eta 0:00:01\r\u001b[K     |██████████████████████▏         | 1.2 MB 5.3 MB/s eta 0:00:01\r\u001b[K     |██████████████████████▍         | 1.2 MB 5.3 MB/s eta 0:00:01\r\u001b[K     |██████████████████████▋         | 1.2 MB 5.3 MB/s eta 0:00:01\r\u001b[K     |██████████████████████▉         | 1.2 MB 5.3 MB/s eta 0:00:01\r\u001b[K     |███████████████████████         | 1.2 MB 5.3 MB/s eta 0:00:01\r\u001b[K     |███████████████████████▏        | 1.2 MB 5.3 MB/s eta 0:00:01\r\u001b[K     |███████████████████████▍        | 1.2 MB 5.3 MB/s eta 0:00:01\r\u001b[K     |███████████████████████▋        | 1.2 MB 5.3 MB/s eta 0:00:01\r\u001b[K     |███████████████████████▊        | 1.2 MB 5.3 MB/s eta 0:00:01\r\u001b[K     |████████████████████████        | 1.3 MB 5.3 MB/s eta 0:00:01\r\u001b[K     |████████████████████████▏       | 1.3 MB 5.3 MB/s eta 0:00:01\r\u001b[K     |████████████████████████▍       | 1.3 MB 5.3 MB/s eta 0:00:01\r\u001b[K     |████████████████████████▌       | 1.3 MB 5.3 MB/s eta 0:00:01\r\u001b[K     |████████████████████████▊       | 1.3 MB 5.3 MB/s eta 0:00:01\r\u001b[K     |█████████████████████████       | 1.3 MB 5.3 MB/s eta 0:00:01\r\u001b[K     |█████████████████████████▏      | 1.3 MB 5.3 MB/s eta 0:00:01\r\u001b[K     |█████████████████████████▎      | 1.3 MB 5.3 MB/s eta 0:00:01\r\u001b[K     |█████████████████████████▌      | 1.3 MB 5.3 MB/s eta 0:00:01\r\u001b[K     |█████████████████████████▊      | 1.4 MB 5.3 MB/s eta 0:00:01\r\u001b[K     |██████████████████████████      | 1.4 MB 5.3 MB/s eta 0:00:01\r\u001b[K     |██████████████████████████      | 1.4 MB 5.3 MB/s eta 0:00:01\r\u001b[K     |██████████████████████████▎     | 1.4 MB 5.3 MB/s eta 0:00:01\r\u001b[K     |██████████████████████████▌     | 1.4 MB 5.3 MB/s eta 0:00:01\r\u001b[K     |██████████████████████████▊     | 1.4 MB 5.3 MB/s eta 0:00:01\r\u001b[K     |██████████████████████████▉     | 1.4 MB 5.3 MB/s eta 0:00:01\r\u001b[K     |███████████████████████████     | 1.4 MB 5.3 MB/s eta 0:00:01\r\u001b[K     |███████████████████████████▎    | 1.4 MB 5.3 MB/s eta 0:00:01\r\u001b[K     |███████████████████████████▌    | 1.4 MB 5.3 MB/s eta 0:00:01\r\u001b[K     |███████████████████████████▋    | 1.5 MB 5.3 MB/s eta 0:00:01\r\u001b[K     |███████████████████████████▉    | 1.5 MB 5.3 MB/s eta 0:00:01\r\u001b[K     |████████████████████████████    | 1.5 MB 5.3 MB/s eta 0:00:01\r\u001b[K     |████████████████████████████▎   | 1.5 MB 5.3 MB/s eta 0:00:01\r\u001b[K     |████████████████████████████▍   | 1.5 MB 5.3 MB/s eta 0:00:01\r\u001b[K     |████████████████████████████▋   | 1.5 MB 5.3 MB/s eta 0:00:01\r\u001b[K     |████████████████████████████▉   | 1.5 MB 5.3 MB/s eta 0:00:01\r\u001b[K     |█████████████████████████████   | 1.5 MB 5.3 MB/s eta 0:00:01\r\u001b[K     |█████████████████████████████▏  | 1.5 MB 5.3 MB/s eta 0:00:01\r\u001b[K     |█████████████████████████████▍  | 1.5 MB 5.3 MB/s eta 0:00:01\r\u001b[K     |█████████████████████████████▋  | 1.6 MB 5.3 MB/s eta 0:00:01\r\u001b[K     |█████████████████████████████▉  | 1.6 MB 5.3 MB/s eta 0:00:01\r\u001b[K     |██████████████████████████████  | 1.6 MB 5.3 MB/s eta 0:00:01\r\u001b[K     |██████████████████████████████▏ | 1.6 MB 5.3 MB/s eta 0:00:01\r\u001b[K     |██████████████████████████████▍ | 1.6 MB 5.3 MB/s eta 0:00:01\r\u001b[K     |██████████████████████████████▋ | 1.6 MB 5.3 MB/s eta 0:00:01\r\u001b[K     |██████████████████████████████▊ | 1.6 MB 5.3 MB/s eta 0:00:01\r\u001b[K     |███████████████████████████████ | 1.6 MB 5.3 MB/s eta 0:00:01\r\u001b[K     |███████████████████████████████▏| 1.6 MB 5.3 MB/s eta 0:00:01\r\u001b[K     |███████████████████████████████▍| 1.6 MB 5.3 MB/s eta 0:00:01\r\u001b[K     |███████████████████████████████▌| 1.7 MB 5.3 MB/s eta 0:00:01\r\u001b[K     |███████████████████████████████▊| 1.7 MB 5.3 MB/s eta 0:00:01\r\u001b[K     |████████████████████████████████| 1.7 MB 5.3 MB/s eta 0:00:01\r\u001b[K     |████████████████████████████████| 1.7 MB 5.3 MB/s \n",
            "\u001b[?25h  Installing build dependencies ... \u001b[?25l\u001b[?25hdone\n",
            "  Getting requirements to build wheel ... \u001b[?25l\u001b[?25hdone\n",
            "    Preparing wheel metadata ... \u001b[?25l\u001b[?25hdone\n",
            "Collecting pytools>=2011.2\n",
            "  Downloading pytools-2021.2.8.tar.gz (63 kB)\n",
            "\u001b[K     |████████████████████████████████| 63 kB 1.9 MB/s \n",
            "\u001b[?25hCollecting mako\n",
            "  Downloading Mako-1.1.5-py2.py3-none-any.whl (75 kB)\n",
            "\u001b[K     |████████████████████████████████| 75 kB 4.3 MB/s \n",
            "\u001b[?25hRequirement already satisfied: appdirs>=1.4.0 in /usr/local/lib/python3.7/dist-packages (from pycuda) (1.4.4)\n",
            "Requirement already satisfied: numpy>=1.6.0 in /usr/local/lib/python3.7/dist-packages (from pytools>=2011.2->pycuda) (1.19.5)\n",
            "Requirement already satisfied: MarkupSafe>=0.9.2 in /usr/local/lib/python3.7/dist-packages (from mako->pycuda) (2.0.1)\n",
            "Building wheels for collected packages: pycuda, pytools\n",
            "  Building wheel for pycuda (PEP 517) ... \u001b[?25l\u001b[?25hdone\n",
            "  Created wheel for pycuda: filename=pycuda-2021.1-cp37-cp37m-linux_x86_64.whl size=627558 sha256=59f10f702364619cc91143fd65e92556faed7c28e4da36f5126160d4111260fe\n",
            "  Stored in directory: /root/.cache/pip/wheels/c4/ef/49/dc6a5feb8d980b37c83d465ecab24949a6aa19458522a9e001\n",
            "  Building wheel for pytools (setup.py) ... \u001b[?25l\u001b[?25hdone\n",
            "  Created wheel for pytools: filename=pytools-2021.2.8-py2.py3-none-any.whl size=60725 sha256=eb436c454792da1d5700d9a66086e4a0bd837e38a63cf911913d332098b7e004\n",
            "  Stored in directory: /root/.cache/pip/wheels/bd/2d/ef/0127a17bafa44971f11d05d0e38d7947144cf9e33313bf12a7\n",
            "Successfully built pycuda pytools\n",
            "Installing collected packages: pytools, mako, pycuda\n",
            "Successfully installed mako-1.1.5 pycuda-2021.1 pytools-2021.2.8\n"
          ]
        }
      ]
    },
    {
      "cell_type": "code",
      "metadata": {
        "id": "ziZX7VezGOEK",
        "colab": {
          "base_uri": "https://localhost:8080/",
          "height": 35
        },
        "outputId": "dbbd0e0d-5f9c-4c76-b272-846c7a81feab"
      },
      "source": [
        "import pycuda.autoinit\n",
        "\n",
        "from pycuda.tools import make_default_context\n",
        "make_default_context().get_device().name()"
      ],
      "execution_count": null,
      "outputs": [
        {
          "output_type": "execute_result",
          "data": {
            "application/vnd.google.colaboratory.intrinsic+json": {
              "type": "string"
            },
            "text/plain": [
              "'Tesla K80'"
            ]
          },
          "metadata": {},
          "execution_count": 3
        }
      ]
    },
    {
      "cell_type": "code",
      "metadata": {
        "id": "cAnsunLdy6if",
        "colab": {
          "base_uri": "https://localhost:8080/"
        },
        "outputId": "3cb24652-3ea0-4ff5-d24f-da013a10be94"
      },
      "source": [
        "!lscpu |grep 'Model name'"
      ],
      "execution_count": null,
      "outputs": [
        {
          "output_type": "stream",
          "name": "stdout",
          "text": [
            "Model name:          Intel(R) Xeon(R) CPU @ 2.30GHz\n"
          ]
        }
      ]
    },
    {
      "cell_type": "code",
      "metadata": {
        "id": "7YZUH6zOdJJl"
      },
      "source": [
        "import numpy as np\n",
        "from numpy import linalg as la\n",
        "from pycuda import driver, compiler, gpuarray, tools\n",
        "import pycuda.autoinit\n",
        "import time\n",
        "import seaborn as sns\n",
        "import pandas as pd\n",
        "\n",
        "\n",
        "matrix_size = 100\n",
        "\n",
        "#Вычисляем GPU\n",
        "def matmul_GPU(a_gpu,b_gpu,matrix_size=matrix_size):\n",
        "    kernel_code_template = \"\"\"\n",
        "    __global__ void MatrixMulKernel(float *A, float *B, float *C)\n",
        "    {\n",
        "const int row =  threadIdx.y + blockIdx.y * blockDim.y;\n",
        "                const int column = threadIdx.x + blockIdx.x * blockDim.x;\n",
        "                const int N = 128;\n",
        "                for(int i = 0; i < N; i++){\n",
        "                        C[column + row * N] += A[i + row * N] * B[column + i * N];              \n",
        "                }       \n",
        "        }\n",
        "\"\"\"\n",
        "\n",
        "    t_size = 2\n",
        "    b_size = t_size\n",
        "\n",
        "    kernel_code = kernel_code_template % {\n",
        "        'matrix_size': matrix_size,\n",
        "        'b_size': b_size,\n",
        "        }\n",
        "\n",
        "    mod = compiler.SourceModule(kernel_code)\n",
        "    \n",
        "    c_gpu = gpuarray.empty((matrix_size, matrix_size), np.float32)\n",
        "\n",
        "    matrixmul = mod.get_function(\"MatrixMulKernel\")\n",
        "\n",
        "    matrixmul(\n",
        "        a_gpu, b_gpu,\n",
        "        c_gpu,\n",
        "        grid = (matrix_size // t_size, matrix_size // t_size),\n",
        "        block = (t_size, t_size, 1),\n",
        "        )\n",
        "\n",
        "    return c_gpu\n",
        "\n",
        "#Вычисляем, CPU\n",
        "def matmul_CPU(A, B): #A - первая матрица; #B - вторая матрица.\n",
        "    C = np.zeros(shape=(A.shape[0], B.shape[1]))\n",
        "    for i in range(len(A)):\n",
        "        for j in range(len(B[0])):\n",
        "            for k in range(len(B)):\n",
        "                C[i][j] += A[i][k] * B[k][j]\n",
        "    return C"
      ],
      "execution_count": null,
      "outputs": []
    },
    {
      "cell_type": "code",
      "metadata": {
        "id": "WucFeklndMUq",
        "colab": {
          "base_uri": "https://localhost:8080/",
          "height": 443
        },
        "outputId": "4507baf5-1ff4-4f55-9299-592d0950eed6"
      },
      "source": [
        "cpu_time = []\n",
        "gpu_time = []\n",
        "diffs = []\n",
        "\n",
        "for size in [128, 256, 512]:\n",
        "      a_cpu = np.random.randn(size, size).astype(np.float32)\n",
        "      b_cpu = np.random.randn(size, size).astype(np.float32)\n",
        "      #Измерение времени CPU\n",
        "      startCPU = time.time()\n",
        "      c_cpu = matmul_CPU(a_cpu, b_cpu)\n",
        "      timeCPU = time.time() -startCPU\n",
        "      cpu_time.append(timeCPU)\n",
        "      #Измерение времени GPU\n",
        "      a_gpu = gpuarray.to_gpu(a_cpu)\n",
        "      b_gpu = gpuarray.to_gpu(b_cpu)\n",
        "      startGPU = time.time()\n",
        "      c_gpu = matmul_GPU(a_gpu, b_gpu, size)\n",
        "      timeGPU = time.time()-startGPU\n",
        "      gpu_time.append(timeGPU)\n",
        "      #Работаем с разницей CPU-GPU\n",
        "      differensetime = timeCPU-timeGPU\n",
        "      diffs.append(differensetime)\n",
        "\n",
        "      print(\"Размерность матрицы:\", size)\n",
        "      print(\"CPU:\", timeCPU)\n",
        "      print(\"GPU:\", timeGPU)\n",
        "      print(\"CPU-GPU:\", differensetime)\n",
        "      print(\"\\n\")"
      ],
      "execution_count": null,
      "outputs": [
        {
          "output_type": "stream",
          "name": "stdout",
          "text": [
            "Размерность матрицы: 128\n",
            "CPU: 3.0986244678497314\n",
            "GPU: 0.0026972293853759766\n",
            "CPU-GPU: 3.0959272384643555\n",
            "\n",
            "\n"
          ]
        },
        {
          "output_type": "error",
          "ename": "KeyboardInterrupt",
          "evalue": "ignored",
          "traceback": [
            "\u001b[0;31m---------------------------------------------------------------------------\u001b[0m",
            "\u001b[0;31mKeyboardInterrupt\u001b[0m                         Traceback (most recent call last)",
            "\u001b[0;32m<ipython-input-22-145fd90d3aad>\u001b[0m in \u001b[0;36m<module>\u001b[0;34m()\u001b[0m\n\u001b[1;32m      8\u001b[0m       \u001b[0;31m#Измерение времени CPU\u001b[0m\u001b[0;34m\u001b[0m\u001b[0;34m\u001b[0m\u001b[0;34m\u001b[0m\u001b[0m\n\u001b[1;32m      9\u001b[0m       \u001b[0mstartCPU\u001b[0m \u001b[0;34m=\u001b[0m \u001b[0mtime\u001b[0m\u001b[0;34m.\u001b[0m\u001b[0mtime\u001b[0m\u001b[0;34m(\u001b[0m\u001b[0;34m)\u001b[0m\u001b[0;34m\u001b[0m\u001b[0;34m\u001b[0m\u001b[0m\n\u001b[0;32m---> 10\u001b[0;31m       \u001b[0mc_cpu\u001b[0m \u001b[0;34m=\u001b[0m \u001b[0mmatmul_CPU\u001b[0m\u001b[0;34m(\u001b[0m\u001b[0ma_cpu\u001b[0m\u001b[0;34m,\u001b[0m \u001b[0mb_cpu\u001b[0m\u001b[0;34m)\u001b[0m\u001b[0;34m\u001b[0m\u001b[0;34m\u001b[0m\u001b[0m\n\u001b[0m\u001b[1;32m     11\u001b[0m       \u001b[0mtimeCPU\u001b[0m \u001b[0;34m=\u001b[0m \u001b[0mtime\u001b[0m\u001b[0;34m.\u001b[0m\u001b[0mtime\u001b[0m\u001b[0;34m(\u001b[0m\u001b[0;34m)\u001b[0m \u001b[0;34m-\u001b[0m\u001b[0mstartCPU\u001b[0m\u001b[0;34m\u001b[0m\u001b[0;34m\u001b[0m\u001b[0m\n\u001b[1;32m     12\u001b[0m       \u001b[0mcpu_time\u001b[0m\u001b[0;34m.\u001b[0m\u001b[0mappend\u001b[0m\u001b[0;34m(\u001b[0m\u001b[0mtimeCPU\u001b[0m\u001b[0;34m)\u001b[0m\u001b[0;34m\u001b[0m\u001b[0;34m\u001b[0m\u001b[0m\n",
            "\u001b[0;32m<ipython-input-21-922c87e6fff8>\u001b[0m in \u001b[0;36mmatmul_CPU\u001b[0;34m(A, B)\u001b[0m\n\u001b[1;32m     52\u001b[0m         \u001b[0;32mfor\u001b[0m \u001b[0mj\u001b[0m \u001b[0;32min\u001b[0m \u001b[0mrange\u001b[0m\u001b[0;34m(\u001b[0m\u001b[0mlen\u001b[0m\u001b[0;34m(\u001b[0m\u001b[0mB\u001b[0m\u001b[0;34m[\u001b[0m\u001b[0;36m0\u001b[0m\u001b[0;34m]\u001b[0m\u001b[0;34m)\u001b[0m\u001b[0;34m)\u001b[0m\u001b[0;34m:\u001b[0m\u001b[0;34m\u001b[0m\u001b[0;34m\u001b[0m\u001b[0m\n\u001b[1;32m     53\u001b[0m             \u001b[0;32mfor\u001b[0m \u001b[0mk\u001b[0m \u001b[0;32min\u001b[0m \u001b[0mrange\u001b[0m\u001b[0;34m(\u001b[0m\u001b[0mlen\u001b[0m\u001b[0;34m(\u001b[0m\u001b[0mB\u001b[0m\u001b[0;34m)\u001b[0m\u001b[0;34m)\u001b[0m\u001b[0;34m:\u001b[0m\u001b[0;34m\u001b[0m\u001b[0;34m\u001b[0m\u001b[0m\n\u001b[0;32m---> 54\u001b[0;31m                 \u001b[0mC\u001b[0m\u001b[0;34m[\u001b[0m\u001b[0mi\u001b[0m\u001b[0;34m]\u001b[0m\u001b[0;34m[\u001b[0m\u001b[0mj\u001b[0m\u001b[0;34m]\u001b[0m \u001b[0;34m+=\u001b[0m \u001b[0mA\u001b[0m\u001b[0;34m[\u001b[0m\u001b[0mi\u001b[0m\u001b[0;34m]\u001b[0m\u001b[0;34m[\u001b[0m\u001b[0mk\u001b[0m\u001b[0;34m]\u001b[0m \u001b[0;34m*\u001b[0m \u001b[0mB\u001b[0m\u001b[0;34m[\u001b[0m\u001b[0mk\u001b[0m\u001b[0;34m]\u001b[0m\u001b[0;34m[\u001b[0m\u001b[0mj\u001b[0m\u001b[0;34m]\u001b[0m\u001b[0;34m\u001b[0m\u001b[0;34m\u001b[0m\u001b[0m\n\u001b[0m\u001b[1;32m     55\u001b[0m     \u001b[0;32mreturn\u001b[0m \u001b[0mC\u001b[0m\u001b[0;34m\u001b[0m\u001b[0;34m\u001b[0m\u001b[0m\n",
            "\u001b[0;31mKeyboardInterrupt\u001b[0m: "
          ]
        }
      ]
    }
  ]
}